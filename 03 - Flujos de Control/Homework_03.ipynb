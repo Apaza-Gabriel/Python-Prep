{
 "cells": [
  {
   "cell_type": "markdown",
   "metadata": {},
   "source": [
    "1) Crear una variable que contenga un elemento del conjunto de números enteros y luego imprimir por pantalla si es mayor o menor a cero"
   ]
  },
  {
   "cell_type": "code",
   "execution_count": 4,
   "metadata": {},
   "outputs": [
    {
     "name": "stdout",
     "output_type": "stream",
     "text": [
      "El numero es mayor a cero\n"
     ]
    }
   ],
   "source": [
    "var1 = 5\n",
    "if(var1 > 0):\n",
    "    print(\"El numero es mayor a cero\")\n",
    "elif(var1 < 0):\n",
    "    print(\"El numero es menor a cero\")"
   ]
  },
  {
   "cell_type": "markdown",
   "metadata": {},
   "source": [
    "2) Crear dos variables y un condicional que informe si son del mismo tipo de dato"
   ]
  },
  {
   "cell_type": "code",
   "execution_count": 7,
   "metadata": {},
   "outputs": [
    {
     "name": "stdout",
     "output_type": "stream",
     "text": [
      "Ambas variables NO son del mismo tipo de dato\n"
     ]
    }
   ],
   "source": [
    "var2 = 22\n",
    "var2b = 'G'\n",
    "if(type(var2) == type(var2b)):\n",
    "    print(\"Ambas variables son del mismo tipo de dato\")\n",
    "else:\n",
    "    print(\"Ambas variables NO son del mismo tipo de dato\")"
   ]
  },
  {
   "cell_type": "markdown",
   "metadata": {},
   "source": [
    "3) Para los valores enteros del 1 al 20, imprimir por pantalla si es par o impar"
   ]
  },
  {
   "cell_type": "code",
   "execution_count": null,
   "metadata": {},
   "outputs": [],
   "source": [
    "for n in range(1,21):\n",
    "    if(n%2 == 0):\n",
    "        print(\"El numero \" + str(n) + \" es par\")\n",
    "    else:\n",
    "        print(\"El numero \" + str(n) + \" es impar\")"
   ]
  },
  {
   "cell_type": "markdown",
   "metadata": {},
   "source": [
    "4) En un ciclo for mostrar para los valores entre 0 y 5 el resultado de elevarlo a la potencia igual a 3"
   ]
  },
  {
   "cell_type": "code",
   "execution_count": null,
   "metadata": {},
   "outputs": [],
   "source": [
    "for n in range(0,6):\n",
    "    print(str(n) + \" elevado a la potencia 3 es igual a: \" + str(n ** 3)) #str convierte un tipo de dato a string"
   ]
  },
  {
   "cell_type": "markdown",
   "metadata": {},
   "source": [
    "5) Crear una variable que contenga un número entero y realizar un ciclo for la misma cantidad de ciclos"
   ]
  },
  {
   "cell_type": "code",
   "execution_count": 32,
   "metadata": {},
   "outputs": [
    {
     "name": "stdout",
     "output_type": "stream",
     "text": [
      "4\n"
     ]
    }
   ],
   "source": [
    "var5 = 5\n",
    "for n in range (0,var5):\n",
    "    pass # instruccion de salto, para que no haga nada\n",
    "print(n)"
   ]
  },
  {
   "cell_type": "markdown",
   "metadata": {},
   "source": [
    "6) Utilizar un ciclo while para realizar el factorial de un número guardado en una variable, sólo si la variable contiene un número entero mayor a 0"
   ]
  },
  {
   "cell_type": "code",
   "execution_count": 6,
   "metadata": {},
   "outputs": [
    {
     "name": "stdout",
     "output_type": "stream",
     "text": [
      "24\n"
     ]
    }
   ],
   "source": [
    "var6 = 4\n",
    "factorial = 1\n",
    "while(var6 >= 1):\n",
    "   factorial = factorial * var6\n",
    "   var6 = var6 - 1\n",
    "print(factorial)"
   ]
  },
  {
   "cell_type": "markdown",
   "metadata": {},
   "source": [
    "7) Crear un ciclo for dentro de un ciclo while"
   ]
  },
  {
   "cell_type": "code",
   "execution_count": null,
   "metadata": {},
   "outputs": [],
   "source": [
    "var7 = 5\n",
    "while(var7 > 0):\n",
    "    print(var7)\n",
    "    var7 = var7 - 1\n",
    "    for n in range (1,var7):\n",
    "        print(n)"
   ]
  },
  {
   "cell_type": "markdown",
   "metadata": {},
   "source": [
    "8) Crear un ciclo while dentro de un ciclo for"
   ]
  },
  {
   "cell_type": "code",
   "execution_count": null,
   "metadata": {},
   "outputs": [],
   "source": [
    "var8 = 5\n",
    "for n in range (1,var8):\n",
    "    print(n)\n",
    "    while(var8 > 0):\n",
    "        print(var8)\n",
    "        var8 = var8 - 1"
   ]
  },
  {
   "cell_type": "markdown",
   "metadata": {},
   "source": [
    "9) Imprimir los números primos existentes entre 0 y 30"
   ]
  },
  {
   "cell_type": "code",
   "execution_count": null,
   "metadata": {},
   "outputs": [],
   "source": [
    "for nro in range (0,31):\n",
    "    esPrimo = True\n",
    "    for n in range (2, nro):\n",
    "        if(nro % 2 == 0):\n",
    "            esPrimo = False\n",
    "    if(esPrimo):\n",
    "        print(nro, \" es primo\")"
   ]
  },
  {
   "cell_type": "markdown",
   "metadata": {},
   "source": [
    "10) ¿Se puede mejorar el proceso del punto 9? Utilizar las sentencias break y/ó continue para tal fin\n"
   ]
  },
  {
   "cell_type": "code",
   "execution_count": 45,
   "metadata": {},
   "outputs": [
    {
     "name": "stdout",
     "output_type": "stream",
     "text": [
      "0  es primo\n",
      "1  es primo\n",
      "2  es primo\n",
      "3  es primo\n",
      "5  es primo\n",
      "7  es primo\n",
      "11  es primo\n",
      "13  es primo\n",
      "17  es primo\n",
      "19  es primo\n",
      "23  es primo\n",
      "29  es primo\n",
      "Cantidad de ciclos:  406\n"
     ]
    }
   ],
   "source": [
    "cant_ciclos = 0\n",
    "for nro in range (0,31):\n",
    "    esPrimo = True\n",
    "    for n in range (2, nro):\n",
    "        cant_ciclos += 1\n",
    "        if(nro % n == 0):\n",
    "            esPrimo = False\n",
    "    if(esPrimo):\n",
    "        print(nro, \" es primo\")\n",
    "print(\"Cantidad de ciclos: \", cant_ciclos)"
   ]
  },
  {
   "cell_type": "markdown",
   "metadata": {},
   "source": [
    "11) En los puntos 9 y 10, se diseño un código que encuentra números primos y además se lo optimizó. ¿Es posible saber en qué medida se optimizó?"
   ]
  },
  {
   "cell_type": "code",
   "execution_count": 46,
   "metadata": {},
   "outputs": [
    {
     "name": "stdout",
     "output_type": "stream",
     "text": [
      "0  es primo\n",
      "1  es primo\n",
      "2  es primo\n",
      "3  es primo\n",
      "5  es primo\n",
      "7  es primo\n",
      "11  es primo\n",
      "13  es primo\n",
      "17  es primo\n",
      "19  es primo\n",
      "23  es primo\n",
      "29  es primo\n",
      "Cantidad de ciclos:  135\n"
     ]
    }
   ],
   "source": [
    "cant_ciclos = 0\n",
    "for nro in range (0,31):\n",
    "    esPrimo = True\n",
    "    for n in range (2, nro):\n",
    "        cant_ciclos += 1\n",
    "        if(nro % n == 0):\n",
    "            esPrimo = False\n",
    "            break\n",
    "    if(esPrimo):\n",
    "        print(nro, \" es primo\")\n",
    "print(\"Cantidad de ciclos: \", cant_ciclos)"
   ]
  },
  {
   "cell_type": "markdown",
   "metadata": {},
   "source": [
    "12) Si la cantidad de números que se evalúa es mayor a treinta, esa optimización crece?"
   ]
  },
  {
   "cell_type": "code",
   "execution_count": 47,
   "metadata": {},
   "outputs": [],
   "source": [
    "var12 = \"respuesta: Si crece\""
   ]
  },
  {
   "cell_type": "markdown",
   "metadata": {},
   "source": [
    "13) Aplicando continue, armar un ciclo while que solo imprima los valores divisibles por 12, dentro del rango de números de 100 a 300"
   ]
  },
  {
   "cell_type": "code",
   "execution_count": null,
   "metadata": {},
   "outputs": [],
   "source": [
    "var13 = 99\n",
    "while(var13 <= 300): # RESUELTO CON WHILE\n",
    "    var13 += 1\n",
    "    if(var13 % 12 != 0):\n",
    "        continue\n",
    "    print('Es divisible por 12: ', var13)"
   ]
  },
  {
   "cell_type": "code",
   "execution_count": null,
   "metadata": {},
   "outputs": [],
   "source": [
    "for n in range (100,300): # RESUELTO CON FOR\n",
    "        n += 1\n",
    "        if(n % 12 != 0):\n",
    "                continue # rompe la iteracion y sigue con las siguientes\n",
    "        print('Es divisible por 12: ', n)"
   ]
  },
  {
   "cell_type": "markdown",
   "metadata": {},
   "source": [
    "14) Utilizar la función **input()** que permite hacer ingresos por teclado, para encontrar números primos y dar la opción al usario de buscar el siguiente"
   ]
  },
  {
   "cell_type": "code",
   "execution_count": null,
   "metadata": {},
   "outputs": [],
   "source": [
    "var14 = input('Ingrese un valor') # ejemplo de entrada por teclado\n",
    "print(type(var14)) # el tipo de dato siempre sera string, aunque ingrese por teclado numeros\n",
    "print(var14)"
   ]
  },
  {
   "cell_type": "code",
   "execution_count": null,
   "metadata": {},
   "outputs": [],
   "source": [
    "n = 1\n",
    "sigue = 1\n",
    "primo = True\n",
    "while (sigue == 1):\n",
    "    for div in range(2, n):\n",
    "        if (n % div == 0):\n",
    "            primo = False\n",
    "            break\n",
    "    if (primo):\n",
    "        print(n)\n",
    "        print('¿Desea encontrar el siguiente número primo?')\n",
    "        if (input() != '1'):\n",
    "            print('Se finaliza el proceso')\n",
    "            break\n",
    "    else:\n",
    "        primo = True\n",
    "    n += 1"
   ]
  },
  {
   "cell_type": "markdown",
   "metadata": {},
   "source": [
    "15) Crear un ciclo while que encuentre dentro del rango de 100 a 300 el primer número divisible por 3 y además múltiplo de 6"
   ]
  },
  {
   "cell_type": "code",
   "execution_count": null,
   "metadata": {},
   "outputs": [],
   "source": []
  }
 ],
 "metadata": {
  "interpreter": {
   "hash": "52634da84371cba311ea128a5ea7cdc41ff074b781779e754b270ff9f8153cee"
  },
  "kernelspec": {
   "display_name": "Python 3.10.5 64-bit",
   "language": "python",
   "name": "python3"
  },
  "language_info": {
   "codemirror_mode": {
    "name": "ipython",
    "version": 3
   },
   "file_extension": ".py",
   "mimetype": "text/x-python",
   "name": "python",
   "nbconvert_exporter": "python",
   "pygments_lexer": "ipython3",
   "version": "3.10.5"
  },
  "orig_nbformat": 4
 },
 "nbformat": 4,
 "nbformat_minor": 2
}
