{
 "cells": [
  {
   "cell_type": "markdown",
   "metadata": {},
   "source": [
    "1) Crear la clase vehículo que contenga los atributos:<br>\n",
    "Color<br>\n",
    "Si es moto, auto, camioneta ó camión<br>\n",
    "Cilindrada del motor"
   ]
  },
  {
   "cell_type": "code",
   "execution_count": 10,
   "metadata": {},
   "outputs": [],
   "source": [
    "class Vehiculo:\n",
    "    def __init__(self, color_param, transporte_param, cilindrada_param):\n",
    "        self.color = color_param\n",
    "        self.transporte = transporte_param\n",
    "        self.cilindrada = cilindrada_param\n",
    "     \n",
    "    def Acelerar(self):\n",
    "        print(\"Estoy acelerando\")"
   ]
  },
  {
   "cell_type": "code",
   "execution_count": 12,
   "metadata": {},
   "outputs": [
    {
     "data": {
      "text/plain": [
       "'moto'"
      ]
     },
     "execution_count": 12,
     "metadata": {},
     "output_type": "execute_result"
    }
   ],
   "source": [
    "veh1 = Vehiculo('azul', 'moto', 3.0)\n",
    "veh1.transporte"
   ]
  },
  {
   "cell_type": "code",
   "execution_count": 13,
   "metadata": {},
   "outputs": [
    {
     "name": "stdout",
     "output_type": "stream",
     "text": [
      "Estoy acelerando\n"
     ]
    }
   ],
   "source": [
    "veh1.Acelerar()\n"
   ]
  },
  {
   "cell_type": "markdown",
   "metadata": {},
   "source": [
    "2) A la clase Vehiculo creada en el punto 1, agregar los siguientes métodos:<br>\n",
    "Acelerar<br>\n",
    "Frenar<br>\n",
    "Doblar<br>"
   ]
  },
  {
   "cell_type": "code",
   "execution_count": 15,
   "metadata": {},
   "outputs": [],
   "source": [
    "class Vehiculo:\n",
    "    def __init__(self, color_param, transporte_param, cilindrada_param):\n",
    "        self.color = color_param\n",
    "        self.transporte = transporte_param\n",
    "        self.cilindrada = cilindrada_param\n",
    "        self.velocidad = 0\n",
    "        self.direccion = 0\n",
    "     \n",
    "    def Acelerar(self, vel):\n",
    "        self.velocidad += vel\n",
    "    def Frenar(self, vel):\n",
    "        self.velocidad -= vel\n",
    "    def Doblar(self, grados):\n",
    "        self.direccion += grados "
   ]
  },
  {
   "cell_type": "code",
   "execution_count": 21,
   "metadata": {},
   "outputs": [
    {
     "data": {
      "text/plain": [
       "__main__.Vehiculo"
      ]
     },
     "execution_count": 21,
     "metadata": {},
     "output_type": "execute_result"
    }
   ],
   "source": [
    "veh3 = Vehiculo('negro', 'auto', 2.0)\n",
    "veh4 = Vehiculo('verde', 'camion', 4.0)\n",
    "veh5 = Vehiculo('azul', 'moto', 3.0)\n",
    "\n",
    "type(veh4)"
   ]
  },
  {
   "cell_type": "code",
   "execution_count": 22,
   "metadata": {},
   "outputs": [],
   "source": [
    "veh3.Frenar(-55)"
   ]
  },
  {
   "cell_type": "markdown",
   "metadata": {},
   "source": [
    "3) Instanciar 3 objetos de la clase vehículo y ejecutar sus métodos, probar luego el resultado"
   ]
  },
  {
   "cell_type": "code",
   "execution_count": 23,
   "metadata": {},
   "outputs": [],
   "source": [
    "veh3 = Vehiculo('negro', 'auto', 2.0)\n",
    "veh4 = Vehiculo('verde', 'camion', 4.0)\n",
    "veh5 = Vehiculo('azul', 'moto', 3.0)\n"
   ]
  },
  {
   "cell_type": "code",
   "execution_count": 25,
   "metadata": {},
   "outputs": [],
   "source": [
    "veh3.Acelerar(50)\n",
    "veh4.Acelerar(20)\n",
    "veh5.Acelerar(30)\n",
    "veh3.Doblar(20)\n",
    "veh4.Doblar(-20)\n",
    "veh5.Frenar(-30)"
   ]
  },
  {
   "cell_type": "markdown",
   "metadata": {},
   "source": [
    "4) Agregar a la clase Vehiculo, un método que muestre su estado, es decir, a que velocidad se encuentra y su dirección. Y otro método que muestre color, tipo y cilindrada"
   ]
  },
  {
   "cell_type": "code",
   "execution_count": 26,
   "metadata": {},
   "outputs": [],
   "source": [
    "class Vehiculo:\n",
    "    def __init__(self, color_param, transporte_param, cilindrada_param):\n",
    "        self.color = color_param\n",
    "        self.transporte = transporte_param\n",
    "        self.cilindrada = cilindrada_param\n",
    "        self.velocidad = 0\n",
    "        self.direccion = 0\n",
    "     \n",
    "    def Acelerar(self, vel):\n",
    "        self.velocidad += vel\n",
    "    def Frenar(self, vel):\n",
    "        self.velocidad -= vel\n",
    "    def Doblar(self, grados):\n",
    "        self.direccion += grados\n",
    "    def Estado(self):\n",
    "        print('Velocidad:', self.velocidad, '-Direccion:', self.direccion)\n",
    "    def Devolver_velocidad(self):\n",
    "        return self.velocidad\n",
    "    def Detalle(self):\n",
    "        print('Soy', self.transporte, 'de color', self.color, 'y mi cilindrada es de', self.cilindrada, 'litros')"
   ]
  },
  {
   "cell_type": "code",
   "execution_count": 30,
   "metadata": {},
   "outputs": [
    {
     "name": "stdout",
     "output_type": "stream",
     "text": [
      "Soy moto de color Rosa y mi cilindrada es de 2.0 litros\n",
      "Velocidad: 60 -Direccion: 0\n"
     ]
    }
   ],
   "source": [
    "veh6 = Vehiculo('Rosa', 'moto', 2.0)\n",
    "veh6.Acelerar(60)\n",
    "veh6.Detalle()\n",
    "veh6.Estado()\n"
   ]
  },
  {
   "cell_type": "markdown",
   "metadata": {},
   "source": [
    "5) Crear una clase que permita utilizar las funciones creadas en la práctica del módulo 6<br>\n",
    "Verificar Primo<br>\n",
    "Valor modal<br>\n",
    "Conversión grados<br>\n",
    "Factorial<br>"
   ]
  },
  {
   "cell_type": "code",
   "execution_count": 36,
   "metadata": {},
   "outputs": [],
   "source": [
    "class Herramientas:\n",
    "    def __init(self) -> None: # este constructor no hace nada\n",
    "        pass # se usa la sentencia pass, para que no falle, y no haga nada\n",
    "\n",
    "    def funcion_primo(self, num):\n",
    "        esPrimo = True\n",
    "        for n in range (2, int(num)):\n",
    "            if(num % n == 0):\n",
    "                esPrimo = False\n",
    "                break\n",
    "        return esPrimo\n",
    "\n",
    "    def valor_modal(self, lista, menor = True):\n",
    "    \n",
    "        lista_unicos = []\n",
    "        lista_repeticiones = []\n",
    "        if len(lista) == 0:\n",
    "            return None\n",
    "        if (menor):\n",
    "            lista.sort()\n",
    "        else:\n",
    "            lista.sort(reverse=True)\n",
    "        for elemento in lista:\n",
    "            if elemento in lista_unicos:\n",
    "                i = lista_unicos.index(elemento)\n",
    "                lista_repeticiones[i] += 1\n",
    "            else:\n",
    "                lista_unicos.append(elemento)\n",
    "                lista_repeticiones.append(1)\n",
    "        moda = lista_unicos[0]\n",
    "        maximo = lista_repeticiones[0]\n",
    "        for i, elemento in enumerate(lista_unicos):\n",
    "            if lista_repeticiones[i] > maximo:\n",
    "                moda = lista_unicos[i]\n",
    "                maximo = lista_repeticiones[i]\n",
    "        return moda, maximo\n",
    "\n",
    "    def convertir(self, valor, origen, final):\n",
    "        if(origen == 'celsius'):\n",
    "            if (final == 'celsius'):\n",
    "                valor_final = valor\n",
    "            elif (final == 'Farenheit'):\n",
    "                valor_final = (valor + 9/5) + 32\n",
    "            elif (final == 'kelvin'):\n",
    "                valor_final = (valor + 273.15)\n",
    "            else:\n",
    "                print(\"Parametro final incorrecto\")\n",
    "        elif (origen == 'Farenheit'):\n",
    "            if (final == 'celsius'):\n",
    "                valor_final = 5*(valor - 32)/9\n",
    "            elif(final == 'Farenheit'):\n",
    "                valor_final = valor\n",
    "            elif (final == 'kelvin'):\n",
    "                valor_final = 5*(valor - 32)/9 + 273.15\n",
    "            else: \n",
    "                print(\"Parametro final incorrecto\")\n",
    "        elif (origen == 'kelvin'):\n",
    "            if (final == 'celsius'):\n",
    "                valor_final = valor - 273.15\n",
    "            elif(final == 'Farenheit'):\n",
    "                valor_final = (((valor - 273.15)*9)/5) + 32\n",
    "            elif (final == 'kelvin'):\n",
    "                valor_final = valor\n",
    "            else: \n",
    "                print(\"Parametro final incorrecto\")\n",
    "        return valor_final\n",
    "\n",
    "    def factorial(self, num):\n",
    "        if(num == 0):\n",
    "            return 1\n",
    "        elif (num == 1):\n",
    "            return 1\n",
    "        elif (num < 0):\n",
    "            return \"El numero debe ser positivo\"\n",
    "        elif (type(num) != int):\n",
    "            return \"el numero debe ser un entero\"\n",
    "        elif (num > 1):\n",
    "            num = num * self.factorial(num - 1)\n",
    "        return num       "
   ]
  },
  {
   "cell_type": "markdown",
   "metadata": {},
   "source": [
    "6) Probar las funciones incorporadas en la clase del punto 5"
   ]
  },
  {
   "cell_type": "code",
   "execution_count": 37,
   "metadata": {},
   "outputs": [],
   "source": [
    "herr = Herramientas()"
   ]
  },
  {
   "cell_type": "code",
   "execution_count": 38,
   "metadata": {},
   "outputs": [
    {
     "data": {
      "text/plain": [
       "24"
      ]
     },
     "execution_count": 38,
     "metadata": {},
     "output_type": "execute_result"
    }
   ],
   "source": [
    "herr.factorial(4)"
   ]
  },
  {
   "cell_type": "code",
   "execution_count": 44,
   "metadata": {},
   "outputs": [
    {
     "name": "stdout",
     "output_type": "stream",
     "text": [
      "El valor modal es 2 y se repite 3 veces\n"
     ]
    }
   ],
   "source": [
    "lista = [1,2,3,5,6,7,3,4,2,2]\n",
    "moda, repe = herr.valor_modal(lista, True)\n",
    "print('El valor modal es', moda, 'y se repite', repe, 'veces')"
   ]
  },
  {
   "cell_type": "code",
   "execution_count": 42,
   "metadata": {},
   "outputs": [
    {
     "data": {
      "text/plain": [
       "303.15"
      ]
     },
     "execution_count": 42,
     "metadata": {},
     "output_type": "execute_result"
    }
   ],
   "source": [
    "herr.convertir(30,'celsius', 'kelvin')"
   ]
  },
  {
   "cell_type": "markdown",
   "metadata": {},
   "source": [
    "7) Es necesario que la clase creada en el punto 5 contenga una lista, sobre la cual se aplquen las funciones incorporadas"
   ]
  },
  {
   "cell_type": "code",
   "execution_count": 93,
   "metadata": {},
   "outputs": [],
   "source": [
    "class Herramientas:\n",
    "    def __init__(self, lista_numeros):\n",
    "        self.lista = lista_numeros\n",
    "\n",
    "    def funcion_primo(self):\n",
    "        for i in self.lista:\n",
    "            if (self.__funcion_primo(i)):\n",
    "                print('El elemento', i, 'SI es un numero primo')\n",
    "            else:\n",
    "                print('El elemento', i, 'NO es un numero primo') \n",
    "\n",
    "    def convertir(self, origen, final):\n",
    "        for i in self.lista:\n",
    "            print(i, 'grados', origen, 'son', self.__convertir(i, origen, final), 'grados', final)\n",
    "\n",
    "    def factorial(self):\n",
    "        for i in self.lista:\n",
    "            print('El factorial de ', i, 'es', self.__factorial(i))\n",
    "\n",
    "\n",
    "    def __funcion_primo(self, num):\n",
    "        esPrimo = True\n",
    "        for n in range (2, num):\n",
    "            if(num % n == 0):\n",
    "                esPrimo = False\n",
    "                break\n",
    "        return esPrimo\n",
    "\n",
    "    def valor_modal(self, lista, menor = True): # trabaja sola porque ya trabaja con una lista de numeros\n",
    "    \n",
    "        lista_unicos = []\n",
    "        lista_repeticiones = []\n",
    "        if len(lista) == 0:\n",
    "            return None\n",
    "        if (menor):\n",
    "            lista.sort()\n",
    "        else:\n",
    "            lista.sort(reverse=True)\n",
    "        for elemento in lista:\n",
    "            if elemento in lista_unicos:\n",
    "                i = lista_unicos.index(elemento)\n",
    "                lista_repeticiones[i] += 1\n",
    "            else:\n",
    "                lista_unicos.append(elemento)\n",
    "                lista_repeticiones.append(1)\n",
    "        moda = lista_unicos[0]\n",
    "        maximo = lista_repeticiones[0]\n",
    "        for i, elemento in enumerate(lista_unicos):\n",
    "            if lista_repeticiones[i] > maximo:\n",
    "                moda = lista_unicos[i]\n",
    "                maximo = lista_repeticiones[i]\n",
    "        return moda, maximo\n",
    "\n",
    "    def __convertir(self, valor, origen, final):\n",
    "        valor_final = None\n",
    "        if(origen == 'celsius'):\n",
    "            if (final == 'celsius'):\n",
    "                valor_final = valor\n",
    "            elif (final == 'farenheit'):\n",
    "                valor_final = (valor + 9/5) + 32\n",
    "            elif (final == 'kelvin'):\n",
    "                valor_final = (valor + 273.15)\n",
    "            else:\n",
    "                print(\"Parametro final incorrecto\")\n",
    "        elif (origen == 'farenheit'):\n",
    "            if (final == 'celsius'):\n",
    "                valor_final = 5*(valor - 32)/9\n",
    "            elif(final == 'farenheit'):\n",
    "                valor_final = valor\n",
    "            elif (final == 'kelvin'):\n",
    "                valor_final = 5*(valor - 32)/9 + 273.15\n",
    "            else: \n",
    "                print(\"Parametro final incorrecto\")\n",
    "        elif (origen == 'kelvin'):\n",
    "            if (final == 'celsius'):\n",
    "                valor_final = valor - 273.15\n",
    "            elif(final == 'farenheit'):\n",
    "                valor_final = (((valor - 273.15)*9)/5) + 32\n",
    "            elif (final == 'kelvin'):\n",
    "                valor_final = valor\n",
    "            else: \n",
    "                print(\"Parametro final incorrecto\")\n",
    "        else: print('Parametro de origen incorrecto')\n",
    "        return valor_final\n",
    "\n",
    "    def __factorial(self, num):\n",
    "        if(type(num) != int):\n",
    "            return \"el numero debe ser un entero\"\n",
    "        if (num < 0):\n",
    "            return \"El numero debe ser positivo\"\n",
    "        if (num > 1):\n",
    "            num = num * self.__factorial(num - 1)\n",
    "        return num       "
   ]
  },
  {
   "cell_type": "code",
   "execution_count": 94,
   "metadata": {},
   "outputs": [],
   "source": [
    "herr = Herramientas([2,3,4,3,2,1,3,5,7,9])"
   ]
  },
  {
   "cell_type": "code",
   "execution_count": null,
   "metadata": {},
   "outputs": [],
   "source": [
    "herr.convertir('farenheit','kelvin')"
   ]
  },
  {
   "cell_type": "code",
   "execution_count": null,
   "metadata": {},
   "outputs": [],
   "source": [
    "herr.funcion_primo()"
   ]
  },
  {
   "cell_type": "code",
   "execution_count": null,
   "metadata": {},
   "outputs": [],
   "source": [
    "herr.factorial()"
   ]
  },
  {
   "cell_type": "markdown",
   "metadata": {},
   "source": [
    "8) Crear un archivo .py aparte y ubicar allí la clase generada en el punto anterior. Luego realizar la importación del módulo y probar alguna de sus funciones"
   ]
  },
  {
   "cell_type": "code",
   "execution_count": 109,
   "metadata": {},
   "outputs": [],
   "source": [
    "from herramientas2 import *"
   ]
  },
  {
   "cell_type": "code",
   "execution_count": 112,
   "metadata": {},
   "outputs": [],
   "source": [
    "herr2 = Herramientas([5,6,7,9,8,5,3,1,2,12])"
   ]
  },
  {
   "cell_type": "code",
   "execution_count": null,
   "metadata": {},
   "outputs": [],
   "source": [
    "herr2.convertir('farenheit','kelvin')\n"
   ]
  },
  {
   "cell_type": "code",
   "execution_count": null,
   "metadata": {},
   "outputs": [],
   "source": []
  },
  {
   "cell_type": "code",
   "execution_count": null,
   "metadata": {},
   "outputs": [],
   "source": [
    "#REPASO:"
   ]
  },
  {
   "cell_type": "code",
   "execution_count": 3,
   "metadata": {},
   "outputs": [
    {
     "name": "stdout",
     "output_type": "stream",
     "text": [
      "Raton\n",
      "2\n",
      "Marron\n"
     ]
    }
   ],
   "source": [
    "class Animal:\n",
    "    def __init__(self, especie, edad, color):\n",
    "        self.especie = especie\n",
    "        self.edad = edad\n",
    "        self.color = color\n",
    "    def mePresento(self):\n",
    "        print('Hola, soy', self.especie, ', de color', self.color, ' y tengo', self.edad, ' años')\n",
    "    def cumplirAños(self):\n",
    "        self.edad = self.edad + 1\n",
    "\n",
    "a1 = Animal('Raton', 2, 'Marron')\n",
    "print(a1.especie)\n",
    "print(a1.edad)\n",
    "print(a1.color)\n"
   ]
  },
  {
   "cell_type": "code",
   "execution_count": null,
   "metadata": {},
   "outputs": [],
   "source": []
  }
 ],
 "metadata": {
  "kernelspec": {
   "display_name": "Python 3.10.5 64-bit",
   "language": "python",
   "name": "python3"
  },
  "language_info": {
   "codemirror_mode": {
    "name": "ipython",
    "version": 3
   },
   "file_extension": ".py",
   "mimetype": "text/x-python",
   "name": "python",
   "nbconvert_exporter": "python",
   "pygments_lexer": "ipython3",
   "version": "3.10.5"
  },
  "orig_nbformat": 4,
  "vscode": {
   "interpreter": {
    "hash": "52634da84371cba311ea128a5ea7cdc41ff074b781779e754b270ff9f8153cee"
   }
  }
 },
 "nbformat": 4,
 "nbformat_minor": 2
}
