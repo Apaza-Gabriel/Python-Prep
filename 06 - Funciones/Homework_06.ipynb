{
 "cells": [
  {
   "cell_type": "markdown",
   "metadata": {},
   "source": [
    "1) Crear una función que reciba un número como parámetro y devuelva si True si es primo y False si no lo es"
   ]
  },
  {
   "cell_type": "code",
   "execution_count": 13,
   "metadata": {},
   "outputs": [
    {
     "data": {
      "text/plain": [
       "True"
      ]
     },
     "execution_count": 13,
     "metadata": {},
     "output_type": "execute_result"
    }
   ],
   "source": [
    "def funcion_primo(num):\n",
    "    esPrimo = True\n",
    "    for n in range (2, int(num)):\n",
    "        if(num % n == 0):\n",
    "            esPrimo = False\n",
    "            break\n",
    "    return esPrimo\n",
    "funcion_primo(11)"
   ]
  },
  {
   "cell_type": "markdown",
   "metadata": {},
   "source": [
    "2) Utilizando la función del punto 1, realizar otra función que reciba de parámetro una lista de números y devuelva sólo aquellos que son primos en otra lista"
   ]
  },
  {
   "cell_type": "code",
   "execution_count": 22,
   "metadata": {},
   "outputs": [
    {
     "data": {
      "text/plain": [
       "[5, 7, 13, 17, 19]"
      ]
     },
     "execution_count": 22,
     "metadata": {},
     "output_type": "execute_result"
    }
   ],
   "source": [
    "lista1 = [5,6,7,10,12,13,15,17,19,22,33]\n",
    "def crea_lista_primos(lista_valores):\n",
    "    lista_primos = []\n",
    "    for elem in lista_valores:\n",
    "        if (funcion_primo(elem)):\n",
    "            lista_primos.append(elem)\n",
    "    return lista_primos\n",
    "crea_lista_primos(lista1)"
   ]
  },
  {
   "cell_type": "markdown",
   "metadata": {},
   "source": [
    "3) Crear una función que al recibir una lista de números, devuelva el que más se repite y cuántas veces lo hace. Si hay más de un \"más repetido\", que devuelva cualquiera"
   ]
  },
  {
   "cell_type": "code",
   "execution_count": 36,
   "metadata": {},
   "outputs": [
    {
     "name": "stdout",
     "output_type": "stream",
     "text": [
      "El numero que mas se repite es: 2 y lo hace 5 veces\n"
     ]
    }
   ],
   "source": [
    "lista = [2,2,4,5,6,8,4,9,6,3,2,4,6,2,2]\n",
    "def max_repetido(lista_valores):\n",
    "    maximo = 0\n",
    "    num_max = 0\n",
    "    for num in lista_valores:\n",
    "        num_repetido = lista_valores.count(num)\n",
    "        if num_repetido > maximo:\n",
    "            maximo = num_repetido\n",
    "            num_max = num\n",
    "    return num_max, maximo\n",
    "\n",
    "num_max, maximo = max_repetido(lista)\n",
    "print(f'El numero que mas se repite es: {num_max} y lo hace {maximo} veces')"
   ]
  },
  {
   "cell_type": "code",
   "execution_count": 37,
   "metadata": {},
   "outputs": [
    {
     "data": {
      "text/plain": [
       "(2, 5)"
      ]
     },
     "execution_count": 37,
     "metadata": {},
     "output_type": "execute_result"
    }
   ],
   "source": [
    "max_repetido(lista)"
   ]
  },
  {
   "cell_type": "markdown",
   "metadata": {},
   "source": [
    "4) A la función del punto 3, agregar un parámetro más, que permita elegir si se requiere el menor o el mayor de los mas repetidos."
   ]
  },
  {
   "cell_type": "code",
   "execution_count": 1,
   "metadata": {},
   "outputs": [],
   "source": [
    "def valor_modal(lista, menor = True):\n",
    "    \n",
    "    lista_unicos = []\n",
    "    lista_repeticiones = []\n",
    "    if len(lista) == 0:\n",
    "        return None\n",
    "    if (menor):\n",
    "        lista.sort()\n",
    "    else:\n",
    "        lista.sort(reverse=True)\n",
    "    for elemento in lista:\n",
    "        if elemento in lista_unicos:\n",
    "            i = lista_unicos.index(elemento)\n",
    "            lista_repeticiones[i] += 1\n",
    "        else:\n",
    "            lista_unicos.append(elemento)\n",
    "            lista_repeticiones.append(1)\n",
    "    moda = lista_unicos[0]\n",
    "    maximo = lista_repeticiones[0]\n",
    "    for i, elemento in enumerate(lista_unicos):\n",
    "        if lista_repeticiones[i] > maximo:\n",
    "            moda = lista_unicos[i]\n",
    "            maximo = lista_repeticiones[i]\n",
    "    return moda, maximo\n"
   ]
  },
  {
   "cell_type": "code",
   "execution_count": 2,
   "metadata": {},
   "outputs": [
    {
     "name": "stdout",
     "output_type": "stream",
     "text": [
      "El valor modal es  4 y se repite 7 veces\n"
     ]
    },
    {
     "data": {
      "text/plain": [
       "(4, 7)"
      ]
     },
     "execution_count": 2,
     "metadata": {},
     "output_type": "execute_result"
    }
   ],
   "source": [
    "lista2 = [2,3,4,4,4,4,5,6,7,4,6,4,3,2,4,5,7,8,11]\n",
    "moda, repite = valor_modal(lista2, False)\n",
    "print('El valor modal es ', moda, 'y se repite',repite, 'veces')\n",
    "valor_modal(lista2, False)"
   ]
  },
  {
   "cell_type": "markdown",
   "metadata": {},
   "source": [
    "5) Crear una función que convierta entre grados Celsius, Farenheit y Kelvin<br>\n",
    "Fórmula 1\t: (°C × 9/5) + 32 = °F<br>\n",
    "Fórmula 2\t: °C + 273.15 = °K<br>\n",
    "Debe recibir 3 parámetros: el valor, la medida de orígen y la medida de destino"
   ]
  },
  {
   "cell_type": "code",
   "execution_count": 57,
   "metadata": {},
   "outputs": [],
   "source": [
    "def convertir(valor, origen, final):\n",
    "    if(origen == 'celsius'):\n",
    "        if (final == 'celsius'):\n",
    "            valor_final = valor\n",
    "        elif (final == 'Farenheit'):\n",
    "            valor_final = (valor + 9/5) + 32\n",
    "        elif (final == 'kelvin'):\n",
    "            valor_final = (valor + 273.15)\n",
    "        else:\n",
    "            print(\"Parametro final incorrecto\")\n",
    "    elif (origen == 'Farenheit'):\n",
    "        if (final == 'celsius'):\n",
    "            valor_final = 5*(valor - 32)/9\n",
    "        elif(final == 'Farenheit'):\n",
    "            valor_final = valor\n",
    "        elif (final == 'kelvin'):\n",
    "            valor_final = 5*(valor - 32)/9 + 273.15\n",
    "        else: \n",
    "            print(\"Parametro final incorrecto\")\n",
    "    elif (origen == 'kelvin'):\n",
    "        if (final == 'celsius'):\n",
    "            valor_final = valor - 273.15\n",
    "        elif(final == 'Farenheit'):\n",
    "            valor_final = (((valor - 273.15)*9)/5) + 32\n",
    "        elif (final == 'kelvin'):\n",
    "            valor_final = valor\n",
    "        else: \n",
    "            print(\"Parametro final incorrecto\")\n",
    "    return valor_final\n",
    "\n"
   ]
  },
  {
   "cell_type": "code",
   "execution_count": 67,
   "metadata": {},
   "outputs": [
    {
     "data": {
      "text/plain": [
       "300.0"
      ]
     },
     "execution_count": 67,
     "metadata": {},
     "output_type": "execute_result"
    }
   ],
   "source": [
    "convertir(26.85,'celsius','kelvin')"
   ]
  },
  {
   "cell_type": "markdown",
   "metadata": {},
   "source": [
    "6) Iterando una lista con los tres valores posibles de temperatura que recibe la función del punto 5, hacer un print para cada combinación de los mismos:"
   ]
  },
  {
   "cell_type": "code",
   "execution_count": null,
   "metadata": {},
   "outputs": [],
   "source": [
    "temperaturas = ['celsius', 'Farenheit', 'kelvin']\n",
    "for i in range (0,3):\n",
    "    for j in range (0,3):\n",
    "        print('1 grado de: ', temperaturas[i],'convertido en ', temperaturas[j], 'es: ', convertir(1,temperaturas[i], temperaturas[j]))"
   ]
  },
  {
   "cell_type": "markdown",
   "metadata": {},
   "source": [
    "7) Armar una función que devuelva el factorial de un número. Tener en cuenta que el usuario puede equivocarse y enviar de parámetro un número no entero o negativo"
   ]
  },
  {
   "cell_type": "code",
   "execution_count": 82,
   "metadata": {},
   "outputs": [],
   "source": [
    "def factorial(num):\n",
    "    if(num == 0):\n",
    "        return 1\n",
    "    elif (num == 1):\n",
    "        return 1\n",
    "    elif (num < 0):\n",
    "        return \"El numero debe ser positivo\"\n",
    "    elif (type(num) != int):\n",
    "        return \"el numero debe ser un entero\"\n",
    "    elif (num > 1):\n",
    "        num = num * factorial(num - 1)\n",
    "    return num       "
   ]
  },
  {
   "cell_type": "code",
   "execution_count": 85,
   "metadata": {},
   "outputs": [
    {
     "name": "stdout",
     "output_type": "stream",
     "text": [
      "6\n",
      "24\n"
     ]
    }
   ],
   "source": [
    "print(factorial(3))\n",
    "print(factorial(4))\n"
   ]
  },
  {
   "cell_type": "code",
   "execution_count": null,
   "metadata": {},
   "outputs": [],
   "source": []
  },
  {
   "cell_type": "code",
   "execution_count": null,
   "metadata": {},
   "outputs": [],
   "source": [
    "#REPASO:"
   ]
  },
  {
   "cell_type": "code",
   "execution_count": 1,
   "metadata": {},
   "outputs": [
    {
     "data": {
      "text/plain": [
       "6"
      ]
     },
     "execution_count": 1,
     "metadata": {},
     "output_type": "execute_result"
    }
   ],
   "source": [
    "def suma(a,b):\n",
    "    cont = a + b\n",
    "    return cont \n",
    "suma(2,4)\n"
   ]
  },
  {
   "cell_type": "code",
   "execution_count": null,
   "metadata": {},
   "outputs": [],
   "source": [
    "def dividir(dividendo, divisor = 1):\n",
    "    if(divisor == 0):\n",
    "        return \"No se puede dividir por cero\"\n",
    "    else:\n",
    "        return dividendo / divisor\n",
    "print(dividir(10))\n",
    "print(divisor)"
   ]
  },
  {
   "cell_type": "code",
   "execution_count": 4,
   "metadata": {},
   "outputs": [
    {
     "data": {
      "text/plain": [
       "24"
      ]
     },
     "execution_count": 4,
     "metadata": {},
     "output_type": "execute_result"
    }
   ],
   "source": [
    "def factorial(num):\n",
    "    if(num > 1):\n",
    "        num = num * factorial(num - 1)\n",
    "    return num\n",
    "factorial(4)"
   ]
  },
  {
   "cell_type": "code",
   "execution_count": 10,
   "metadata": {},
   "outputs": [],
   "source": [
    "x = 10\n",
    "def funcion(entrada):\n",
    "    entrada = 0\n",
    "funcion(x)"
   ]
  },
  {
   "cell_type": "code",
   "execution_count": 18,
   "metadata": {},
   "outputs": [
    {
     "name": "stdout",
     "output_type": "stream",
     "text": [
      "[10, 20, 30, 40]\n"
     ]
    }
   ],
   "source": [
    "x = [10,20,30]\n",
    "def funcion(entrada):\n",
    "    entrada.append(40)\n",
    "funcion(x)\n",
    "print(x)"
   ]
  },
  {
   "cell_type": "code",
   "execution_count": 19,
   "metadata": {},
   "outputs": [
    {
     "data": {
      "text/plain": [
       "12"
      ]
     },
     "execution_count": 19,
     "metadata": {},
     "output_type": "execute_result"
    }
   ],
   "source": [
    "lambda_prod = lambda x,y : x*y\n",
    "lambda_prod(3,4)"
   ]
  },
  {
   "cell_type": "code",
   "execution_count": 22,
   "metadata": {},
   "outputs": [
    {
     "data": {
      "text/plain": [
       "8"
      ]
     },
     "execution_count": 22,
     "metadata": {},
     "output_type": "execute_result"
    }
   ],
   "source": [
    "prod = lambda x,y,z : x+y+z\n",
    "prod(3,3,2)"
   ]
  }
 ],
 "metadata": {
  "kernelspec": {
   "display_name": "Python 3.10.5 64-bit",
   "language": "python",
   "name": "python3"
  },
  "language_info": {
   "codemirror_mode": {
    "name": "ipython",
    "version": 3
   },
   "file_extension": ".py",
   "mimetype": "text/x-python",
   "name": "python",
   "nbconvert_exporter": "python",
   "pygments_lexer": "ipython3",
   "version": "3.10.5"
  },
  "orig_nbformat": 4,
  "vscode": {
   "interpreter": {
    "hash": "52634da84371cba311ea128a5ea7cdc41ff074b781779e754b270ff9f8153cee"
   }
  }
 },
 "nbformat": 4,
 "nbformat_minor": 2
}
